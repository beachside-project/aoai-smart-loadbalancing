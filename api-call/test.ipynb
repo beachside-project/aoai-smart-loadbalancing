{
 "cells": [
  {
   "cell_type": "code",
   "execution_count": 7,
   "metadata": {},
   "outputs": [],
   "source": [
    "from openai import AzureOpenAI\n",
    "from dotenv import load_dotenv\n",
    "import os\n",
    "\n",
    "load_dotenv(override=True)\n",
    "\n",
    "loadbalancer_url = os.environ[\"LOADBALANCER_URL\"]\n",
    "\n",
    "client = AzureOpenAI(\n",
    "    azure_endpoint=loadbalancer_url,\n",
    "    api_key=\"does-not-matter\",\n",
    "    api_version=\"2024-06-01\"\n",
    ")\n",
    "\n",
    "\n",
    "# client = AzureOpenAI(\n",
    "#     azure_endpoint=os.environ[\"AOAI_ENDPOINT\"],  \n",
    "#     api_key=os.environ[\"AOAI_API_KEY\"],\n",
    "#     api_version=\"2024-06-01\"\n",
    "# )"
   ]
  },
  {
   "cell_type": "code",
   "execution_count": 8,
   "metadata": {},
   "outputs": [
    {
     "name": "stdout",
     "output_type": "stream",
     "text": [
      "こんにちは！今日はどのようにお手伝いできますか？\n"
     ]
    }
   ],
   "source": [
    "deployment_name = \"gpt-4o-mini\"\n",
    "\n",
    "completions = client.chat.completions.create(\n",
    "    model=deployment_name,\n",
    "    messages=[\n",
    "        {\"role\": \"system\", \"content\": \"You are a helpful assistant.\"},\n",
    "        {\"role\": \"user\", \"content\": \"こんにちは\"}\n",
    "    ]\n",
    ")\n",
    "\n",
    "answer = completions.choices[0].message.content\n",
    "print(answer)"
   ]
  }
 ],
 "metadata": {
  "kernelspec": {
   "display_name": "Python 3",
   "language": "python",
   "name": "python3"
  },
  "language_info": {
   "codemirror_mode": {
    "name": "ipython",
    "version": 3
   },
   "file_extension": ".py",
   "mimetype": "text/x-python",
   "name": "python",
   "nbconvert_exporter": "python",
   "pygments_lexer": "ipython3",
   "version": "3.11.9"
  }
 },
 "nbformat": 4,
 "nbformat_minor": 2
}
